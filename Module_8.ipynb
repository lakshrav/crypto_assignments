{
  "nbformat": 4,
  "nbformat_minor": 0,
  "metadata": {
    "colab": {
      "provenance": [],
      "authorship_tag": "ABX9TyMx70DeeW4l5KqZOXU3qF1i",
      "include_colab_link": true
    },
    "kernelspec": {
      "name": "python3",
      "display_name": "Python 3"
    },
    "language_info": {
      "name": "python"
    }
  },
  "cells": [
    {
      "cell_type": "markdown",
      "metadata": {
        "id": "view-in-github",
        "colab_type": "text"
      },
      "source": [
        "<a href=\"https://colab.research.google.com/github/lakshrav/crypto_assignments/blob/main/Module_8.ipynb\" target=\"_parent\"><img src=\"https://colab.research.google.com/assets/colab-badge.svg\" alt=\"Open In Colab\"/></a>"
      ]
    },
    {
      "cell_type": "markdown",
      "source": [
        "## Computing Hashes, MACs and HMACs for messages"
      ],
      "metadata": {
        "id": "vw2CLPX8gTnb"
      }
    },
    {
      "cell_type": "code",
      "source": [
        "import hmac\n",
        "import hashlib"
      ],
      "metadata": {
        "id": "h-M5MUN2gq9Z"
      },
      "execution_count": 2,
      "outputs": []
    },
    {
      "cell_type": "code",
      "source": [
        "# Computing Hash\n",
        "\n",
        "def hash_string(message, algorithm):\n",
        "    \"\"\"\n",
        "    Hashes the given message using the specified algorithm.\n",
        "    \"\"\"\n",
        "    # Convert the message to bytes\n",
        "    message_bytes = bytes(message, 'utf-8')\n",
        "\n",
        "    # Choose the hash algorithm\n",
        "    hash_func = hashlib.new(algorithm)\n",
        "\n",
        "    # Update the hash object with the message\n",
        "    hash_func.update(message_bytes)\n",
        "\n",
        "    # Get the hash digest\n",
        "    hash_digest = hash_func.hexdigest()\n",
        "\n",
        "    return hash_digest\n"
      ],
      "metadata": {
        "id": "BeAGrmoZgbOo"
      },
      "execution_count": 3,
      "outputs": []
    },
    {
      "cell_type": "code",
      "source": [
        "# Driver code - input given \n",
        "\n",
        "# Example usage\n",
        "message = input(\"Enter message to encode: \")\n",
        "\n",
        "algorithms = ['md5', 'sha1', 'sha256', 'sha512']\n",
        "\n",
        "for algorithm in algorithms:\n",
        "    hashed_value = hash_string(message, algorithm)\n",
        "    print(f\"{algorithm.upper()} hash:\", hashed_value)"
      ],
      "metadata": {
        "colab": {
          "base_uri": "https://localhost:8080/"
        },
        "id": "PGv5zbqRg0iC",
        "outputId": "46aa8378-a9a8-4b82-8b04-65d058deb704"
      },
      "execution_count": 4,
      "outputs": [
        {
          "output_type": "stream",
          "name": "stdout",
          "text": [
            "Enter message to encode: Hello there!\n",
            "MD5 hash: a77b55332699835c035957df17630d28\n",
            "SHA1 hash: 6b19cb3790b6da8f7c34b4d8895d78a56d078624\n",
            "SHA256 hash: 89b8b8e486421463d7e0f5caf60fb9cb35ce169b76e657ab21fc4d1d6b093603\n",
            "SHA512 hash: d0a1a241f4879b8fd8f9a2be55b004860f0e6f453ea8b42c8ad0e8cfc3721819dac6ec52f45b36044046b15cb8720874f701524aeac291921a865467781da456\n"
          ]
        }
      ]
    },
    {
      "cell_type": "code",
      "source": [
        "# Computing HMAC\n",
        "\n",
        "def generate_hmac(key, message):\n",
        "    # Generates HMAC using the given key and message.\n",
        "\n",
        "    key_bytes = bytes(key, 'utf-8')\n",
        "    message_bytes = bytes(message, 'utf-8')\n",
        "    hash_func = hashlib.sha512\n",
        "\n",
        "    # Generate the HMAC\n",
        "    hmac_digest = hmac.new(key_bytes, message_bytes, hash_func).hexdigest()\n",
        "\n",
        "    return hmac_digest"
      ],
      "metadata": {
        "id": "5SAwnO8GhBe0"
      },
      "execution_count": 5,
      "outputs": []
    },
    {
      "cell_type": "code",
      "source": [
        "key = input(\"Enter secret key: \")\n",
        "message =input(\"Enter message: \")\n",
        "\n",
        "hmac_value = generate_hmac(key, message)\n",
        "print(\"HMAC:\", hmac_value)\n"
      ],
      "metadata": {
        "colab": {
          "base_uri": "https://localhost:8080/"
        },
        "id": "_jhB1EyWhTUr",
        "outputId": "c2c8673b-bddc-4e40-f076-d69ef22bdbe6"
      },
      "execution_count": 11,
      "outputs": [
        {
          "output_type": "stream",
          "name": "stdout",
          "text": [
            "Enter secret key: hi\n",
            "Enter message: hello there\n",
            "HMAC: 993594e2018d4bcf72a1ba6a69f46d162266ee1e1c7ae61d7e934d1b9612e9ac55450a90843802ac72f7ddea8494cf5bfdf2a9b18e988ba02878bc887aad2750\n"
          ]
        }
      ]
    },
    {
      "cell_type": "code",
      "source": [
        "# Computing MAC\n",
        "\n",
        "def generate_mac(key, message):\n",
        "    key_bytes = bytes(key, 'utf-8')\n",
        "    message_bytes = bytes(message, 'utf-8')\n",
        "    hash_func = hashlib.sha256\n",
        "\n",
        "    # Generate the MAC\n",
        "    mac = hmac.new(key_bytes, message_bytes, hash_func).digest()\n",
        "\n",
        "    return mac\n"
      ],
      "metadata": {
        "id": "N7LIJHlYheGS"
      },
      "execution_count": 8,
      "outputs": []
    },
    {
      "cell_type": "code",
      "source": [
        "# Example usage\n",
        "key = input(\"Enter secret key: \")\n",
        "message = input(\"Enter message: \")\n",
        "\n",
        "mac_value = generate_mac(key, message)\n",
        "print(\"MAC:\", mac_value)"
      ],
      "metadata": {
        "colab": {
          "base_uri": "https://localhost:8080/"
        },
        "id": "1G_uOfpPhosD",
        "outputId": "c47e5663-cf4d-44e2-d11a-eedbe254e3ed"
      },
      "execution_count": 10,
      "outputs": [
        {
          "output_type": "stream",
          "name": "stdout",
          "text": [
            "Enter secret key: hello\n",
            "Enter message: hello there\n",
            "MAC: b'\\xaf\\x03\\xcf\\xa6d$}\\xc4\\x95a\\xc8[\\xe5q#\\xff\\xc8e\\xb0\\x9a\\xad\\xc6\\x85\\xd4|\\x1f\\x18<a\\xf21\\xdd'\n"
          ]
        }
      ]
    }
  ]
}